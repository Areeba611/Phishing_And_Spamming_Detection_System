{
 "cells": [
  {
   "cell_type": "code",
   "execution_count": null,
   "id": "9fc6b777-1a2c-4d2e-beb1-eeef685ca09a",
   "metadata": {},
   "outputs": [
    {
     "name": "stdout",
     "output_type": "stream",
     "text": [
      " * Serving Flask app '__main__'\n",
      " * Debug mode: on\n"
     ]
    },
    {
     "name": "stderr",
     "output_type": "stream",
     "text": [
      "WARNING: This is a development server. Do not use it in a production deployment. Use a production WSGI server instead.\n",
      " * Running on all addresses (0.0.0.0)\n",
      " * Running on http://127.0.0.1:8000\n",
      " * Running on http://192.168.1.4:8000\n",
      "Press CTRL+C to quit\n",
      "127.0.0.1 - - [09/Sep/2025 22:26:28] \"POST /check_url HTTP/1.1\" 200 -\n"
     ]
    },
    {
     "name": "stdout",
     "output_type": "stream",
     "text": [
      "Input URL: 23.227.196.215/\n",
      "Cleaned URL: 23.227.196.215/\n"
     ]
    },
    {
     "name": "stderr",
     "output_type": "stream",
     "text": [
      "127.0.0.1 - - [09/Sep/2025 22:31:08] \"GET / HTTP/1.1\" 200 -\n",
      "127.0.0.1 - - [09/Sep/2025 22:31:12] \"POST /check_url HTTP/1.1\" 200 -\n"
     ]
    },
    {
     "name": "stdout",
     "output_type": "stream",
     "text": [
      "Input URL: 23.227.196.215/\n",
      "Cleaned URL: 23.227.196.215/\n"
     ]
    },
    {
     "name": "stderr",
     "output_type": "stream",
     "text": [
      "127.0.0.1 - - [09/Sep/2025 22:31:21] \"POST /report HTTP/1.1\" 302 -\n",
      "127.0.0.1 - - [09/Sep/2025 22:31:21] \"GET / HTTP/1.1\" 200 -\n"
     ]
    },
    {
     "name": "stdout",
     "output_type": "stream",
     "text": [
      "DEBUG Report Form Data → url 23.227.196.215/\n"
     ]
    },
    {
     "name": "stderr",
     "output_type": "stream",
     "text": [
      "127.0.0.1 - - [09/Sep/2025 22:31:28] \"POST /check_email HTTP/1.1\" 200 -\n",
      "127.0.0.1 - - [09/Sep/2025 22:31:35] \"POST /report HTTP/1.1\" 302 -\n",
      "127.0.0.1 - - [09/Sep/2025 22:31:35] \"GET / HTTP/1.1\" 200 -\n"
     ]
    },
    {
     "name": "stdout",
     "output_type": "stream",
     "text": [
      "DEBUG Report Form Data → email Free entry in 2 a wkly comp to win FA Cup fina...\n"
     ]
    },
    {
     "name": "stderr",
     "output_type": "stream",
     "text": [
      "127.0.0.1 - - [09/Sep/2025 22:32:15] \"POST /check_url HTTP/1.1\" 200 -\n"
     ]
    },
    {
     "name": "stdout",
     "output_type": "stream",
     "text": [
      "Input URL: https://www.kaggle.com/datasets/taruntiwarihp/phishing-site-urls\n",
      "Cleaned URL: kaggle.com/datasets/taruntiwarihp/phishing-site-urls\n"
     ]
    },
    {
     "name": "stderr",
     "output_type": "stream",
     "text": [
      "127.0.0.1 - - [09/Sep/2025 22:32:38] \"POST /check_email HTTP/1.1\" 200 -\n",
      "127.0.0.1 - - [09/Sep/2025 22:37:53] \"GET / HTTP/1.1\" 200 -\n",
      "127.0.0.1 - - [09/Sep/2025 22:38:34] \"POST /check_url HTTP/1.1\" 200 -\n"
     ]
    },
    {
     "name": "stdout",
     "output_type": "stream",
     "text": [
      "Input URL: www.google.com\n",
      "Cleaned URL: www.google.com\n"
     ]
    },
    {
     "name": "stderr",
     "output_type": "stream",
     "text": [
      "127.0.0.1 - - [09/Sep/2025 22:40:03] \"GET / HTTP/1.1\" 200 -\n",
      "127.0.0.1 - - [09/Sep/2025 22:40:08] \"POST /check_url HTTP/1.1\" 200 -\n"
     ]
    },
    {
     "name": "stdout",
     "output_type": "stream",
     "text": [
      "Input URL: 23.227.196.215/\n",
      "Cleaned URL: 23.227.196.215/\n"
     ]
    },
    {
     "name": "stderr",
     "output_type": "stream",
     "text": [
      "127.0.0.1 - - [09/Sep/2025 22:40:18] \"POST /report HTTP/1.1\" 302 -\n",
      "127.0.0.1 - - [09/Sep/2025 22:40:18] \"GET / HTTP/1.1\" 200 -\n"
     ]
    },
    {
     "name": "stdout",
     "output_type": "stream",
     "text": [
      "DEBUG Report Form Data → url 23.227.196.215/\n"
     ]
    },
    {
     "name": "stderr",
     "output_type": "stream",
     "text": [
      "127.0.0.1 - - [09/Sep/2025 22:40:47] \"POST /check_email HTTP/1.1\" 200 -\n",
      "127.0.0.1 - - [09/Sep/2025 22:40:54] \"POST /report HTTP/1.1\" 302 -\n",
      "127.0.0.1 - - [09/Sep/2025 22:40:54] \"GET / HTTP/1.1\" 200 -\n"
     ]
    },
    {
     "name": "stdout",
     "output_type": "stream",
     "text": [
      "DEBUG Report Form Data → email Free entry in 2 a wkly comp to win FA Cup fina...\n"
     ]
    },
    {
     "name": "stderr",
     "output_type": "stream",
     "text": [
      "127.0.0.1 - - [09/Sep/2025 22:43:43] \"GET / HTTP/1.1\" 200 -\n",
      "127.0.0.1 - - [09/Sep/2025 22:43:48] \"POST /check_url HTTP/1.1\" 200 -\n"
     ]
    },
    {
     "name": "stdout",
     "output_type": "stream",
     "text": [
      "Input URL: 23.227.196.215/\n",
      "Cleaned URL: 23.227.196.215/\n"
     ]
    },
    {
     "name": "stderr",
     "output_type": "stream",
     "text": [
      "127.0.0.1 - - [09/Sep/2025 22:43:54] \"POST /report HTTP/1.1\" 302 -\n",
      "127.0.0.1 - - [09/Sep/2025 22:43:54] \"GET / HTTP/1.1\" 200 -\n"
     ]
    },
    {
     "name": "stdout",
     "output_type": "stream",
     "text": [
      "DEBUG Report Form Data → url 23.227.196.215/\n"
     ]
    },
    {
     "name": "stderr",
     "output_type": "stream",
     "text": [
      "127.0.0.1 - - [09/Sep/2025 22:44:17] \"POST /check_email HTTP/1.1\" 200 -\n",
      "127.0.0.1 - - [09/Sep/2025 22:44:23] \"POST /report HTTP/1.1\" 302 -\n",
      "127.0.0.1 - - [09/Sep/2025 22:44:23] \"GET / HTTP/1.1\" 200 -\n"
     ]
    },
    {
     "name": "stdout",
     "output_type": "stream",
     "text": [
      "DEBUG Report Form Data → email Free entry in 2 a wkly comp to win FA Cup fina...\n"
     ]
    },
    {
     "name": "stderr",
     "output_type": "stream",
     "text": [
      "127.0.0.1 - - [09/Sep/2025 22:44:40] \"POST /check_url HTTP/1.1\" 200 -\n"
     ]
    },
    {
     "name": "stdout",
     "output_type": "stream",
     "text": [
      "Input URL: www.google.com\n",
      "Cleaned URL: www.google.com\n"
     ]
    },
    {
     "name": "stderr",
     "output_type": "stream",
     "text": [
      "127.0.0.1 - - [09/Sep/2025 22:45:02] \"POST /check_email HTTP/1.1\" 200 -\n"
     ]
    }
   ],
   "source": [
    "from flask import Flask, render_template, request, jsonify, redirect, url_for\n",
    "import pickle\n",
    "import re\n",
    "import nest_asyncio\n",
    "import random\n",
    "# Apply nest_asyncio to allow Flask to run inside Jupyter\n",
    "nest_asyncio.apply()\n",
    "\n",
    "app = Flask(__name__)\n",
    "email_vector = pickle.load(open(\"email_vectorizer.pkl\", \"rb\"))\n",
    "email_model = pickle.load(open(\"email_model.pkl\", \"rb\"))\n",
    "\n",
    "vector = pickle.load(open(\"vectorizer.pkl\", \"rb\"))\n",
    "model = pickle.load(open(\"phishing.pkl\", \"rb\"))\n",
    "\n",
    "AWARENESS_TIPS = [\n",
    "    \"🔒 Always check if the website uses HTTPS before entering sensitive data.\",\n",
    "    \"📧 Avoid clicking on links from unknown emails or SMS messages.\",\n",
    "    \"🔑 Never share your OTP, password, or banking details on suspicious sites.\",\n",
    "    \"🚫 Double-check the domain name — phishing sites often mimic real ones.\",\n",
    "    \"🛡️ Keep your browser and antivirus updated for better protection.\"\n",
    "]\n",
    "\n",
    "@app.route(\"/\", methods=['GET'])\n",
    "def home():\n",
    "    return render_template(\"index.html\")\n",
    "\n",
    "@app.route(\"/check_url\", methods=['GET', 'POST'])\n",
    "def index():\n",
    "    result = None\n",
    "    probability = None\n",
    "    is_phishing = False\n",
    "    last_url=\"\"\n",
    "    if request.method == \"POST\":\n",
    "        url = request.form['url']\n",
    "        last_url = url\n",
    "        print(\"Input URL:\", url)\n",
    "        \n",
    "        cleaned_url = re.sub(r'^https?://(www\\.)?', '', url)\n",
    "        print(\"Cleaned URL:\", cleaned_url)\n",
    "        \n",
    "        prediction = model.predict(vector.transform([cleaned_url]))[0]\n",
    "        proba = model.predict_proba(vector.transform([cleaned_url]))[0]\n",
    "        \n",
    "        if prediction == 'bad':\n",
    "            result = \"Phishing website!\"\n",
    "            probability = round(proba[0] * 100, 2)\n",
    "            is_phishing = True\n",
    "            awareness_tip = random.choice(AWARENESS_TIPS)\n",
    "\n",
    "        elif prediction == 'good':\n",
    "            result = \"Not a phishing website!\"\n",
    "            probability = round(proba[1] * 100, 2)\n",
    "            awareness_tip = None\n",
    "        else:\n",
    "            result = \"Something went wrong!\"\n",
    "            probability = None\n",
    "        \n",
    "\n",
    "        return render_template(\"index.html\", predict=result, proba=probability, phishing=is_phishing, tip=awareness_tip, last_url=last_url)\n",
    "    else:\n",
    "        return render_template(\"index.html\")\n",
    "\n",
    "@app.route(\"/check_email\", methods=['POST'])\n",
    "def check_email():\n",
    "    message = request.form['message']\n",
    "\n",
    "    prediction = email_model.predict(email_vector.transform([message]))[0]\n",
    "    proba = email_model.predict_proba(email_vector.transform([message]))[0]\n",
    "    spam_index = list(email_model.classes_).index(\"spam\")\n",
    "    not_spam_index = list(email_model.classes_).index(\"ham\")\n",
    "\n",
    "    is_spam =False\n",
    "    \n",
    "\n",
    "    if prediction == 'spam':\n",
    "        result = \"Spam Email!\"\n",
    "        probability = round(proba[spam_index] * 100, 2)\n",
    "        is_spam=True\n",
    "        \n",
    "    else:\n",
    "        result = \"Not Spam!\"\n",
    "        probability = round(proba[not_spam_index] * 100, 2)\n",
    "\n",
    "    return render_template(\"index.html\", predict=result, proba=probability,last_email=message, spam=is_spam )\n",
    "@app.route(\"/report\", methods=['POST'])\n",
    "def report():\n",
    "     report_type = request.form.get(\"type\")\n",
    "     content = request.form.get(\"content\")\n",
    "     print(\"DEBUG Report Form Data →\", report_type, content)\n",
    "     if not report_type or not content:\n",
    "        return \"Invalid report data\", 400\n",
    "\n",
    "     if report_type == 'url':\n",
    "        file_name = \"reported_urls.txt\"\n",
    "     elif report_type == 'email':\n",
    "        file_name = \"reported_emails.txt\"\n",
    "     else:\n",
    "        return \"Invalid report type\", 400\n",
    "\n",
    "     try:\n",
    "        with open(file_name, \"a\") as f:\n",
    "            f.write(content + \"\\n\")\n",
    "        return redirect(url_for('home')) \n",
    "     except Exception as e:\n",
    "        return f\"An error occurred: {e}\", 500\n",
    "    \n",
    "\n",
    "# Run Flask inside Jupyter\n",
    "app.run(host=\"0.0.0.0\", port=8000, debug=True, use_reloader=False)"
   ]
  },
  {
   "cell_type": "code",
   "execution_count": null,
   "id": "092155bc-1cc1-436f-8e6f-5f835139d00e",
   "metadata": {},
   "outputs": [],
   "source": []
  }
 ],
 "metadata": {
  "kernelspec": {
   "display_name": "Python 3 (ipykernel)",
   "language": "python",
   "name": "python3"
  },
  "language_info": {
   "codemirror_mode": {
    "name": "ipython",
    "version": 3
   },
   "file_extension": ".py",
   "mimetype": "text/x-python",
   "name": "python",
   "nbconvert_exporter": "python",
   "pygments_lexer": "ipython3",
   "version": "3.13.5"
  }
 },
 "nbformat": 4,
 "nbformat_minor": 5
}
